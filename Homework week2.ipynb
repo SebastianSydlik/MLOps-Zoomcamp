{
 "cells": [
  {
   "cell_type": "code",
   "execution_count": 2,
   "id": "e106780b-d7e7-48c0-9cdd-6911d7cc3342",
   "metadata": {},
   "outputs": [],
   "source": [
    "import pandas as pd\n",
    "import mlflow\n",
    "import hyperopt\n",
    "import click"
   ]
  },
  {
   "cell_type": "code",
   "execution_count": 3,
   "id": "4af3babe",
   "metadata": {},
   "outputs": [
    {
     "data": {
      "text/plain": [
       "('2.13.0', '0.2.7', '8.1.7')"
      ]
     },
     "execution_count": 3,
     "metadata": {},
     "output_type": "execute_result"
    }
   ],
   "source": [
    "mlflow.__version__, hyperopt.__version__, click.__version__"
   ]
  },
  {
   "cell_type": "code",
   "execution_count": 4,
   "id": "66e7324f-b713-4608-983b-c3ebffdd5a04",
   "metadata": {},
   "outputs": [
    {
     "data": {
      "text/plain": [
       "<Experiment: artifact_location=('file:///C:/Users/SebastianSy/Desktop/231110_Backup Gateway '\n",
       " 'Final/Administration/Other/Sinn/Start-up and Job/Programmieren/MLOps '\n",
       " 'Zoomcamp/week 2/mlruns/3'), creation_time=1716747738725, experiment_id='3', last_update_time=1716747738725, lifecycle_stage='active', name='nyc_taxi_exp_0', tags={}>"
      ]
     },
     "execution_count": 4,
     "metadata": {},
     "output_type": "execute_result"
    }
   ],
   "source": [
    "mlflow.set_tracking_uri(\"sqlite:///mlflow.db\")\n",
    "mlflow.set_experiment(\"nyc_taxi_exp_0\")"
   ]
  },
  {
   "cell_type": "code",
   "execution_count": 8,
   "id": "9e510a48-3015-4de3-a63c-eb7666bafe8f",
   "metadata": {},
   "outputs": [
    {
     "name": "stderr",
     "output_type": "stream",
     "text": [
      "2024/05/27 15:12:04 INFO mlflow.tracking.fluent: Autologging successfully enabled for sklearn.\n",
      "2024/05/27 15:12:04 WARNING mlflow.utils.git_utils: Failed to import Git (the Git executable is probably not on your PATH), so Git SHA is not available. Error: Failed to initialize: Bad git executable.\n",
      "The git executable must be specified in one of the following ways:\n",
      "    - be included in your $PATH\n",
      "    - be set via $GIT_PYTHON_GIT_EXECUTABLE\n",
      "    - explicitly set via git.refresh(<full-path-to-git-executable>)\n",
      "\n",
      "All git commands will error until this is rectified.\n",
      "\n",
      "This initial message can be silenced or aggravated in the future by setting the\n",
      "$GIT_PYTHON_REFRESH environment variable. Use one of the following values:\n",
      "    - quiet|q|silence|s|silent|none|n|0: for no message or exception\n",
      "    - warn|w|warning|log|l|1: for a warning message (logging level CRITICAL, displayed by default)\n",
      "    - error|e|exception|raise|r|2: for a raised exception\n",
      "\n",
      "Example:\n",
      "    export GIT_PYTHON_REFRESH=quiet\n",
      "\n",
      "2024/05/27 15:12:05 WARNING mlflow.sklearn: Failed to log training dataset information to MLflow Tracking. Reason: 'numpy.ndarray' object has no attribute 'toarray'\n",
      "2024/05/27 15:12:40 WARNING mlflow.utils.autologging_utils: MLflow autologging encountered a warning: \"C:\\Users\\SebastianSy\\AppData\\Local\\anaconda3\\envs\\MLOPs\\Lib\\site-packages\\_distutils_hack\\__init__.py:26: UserWarning: Setuptools is replacing distutils.\"\n",
      "C:\\Users\\SebastianSy\\AppData\\Local\\anaconda3\\envs\\MLOPs\\Lib\\site-packages\\sklearn\\metrics\\_regression.py:483: FutureWarning: 'squared' is deprecated in version 1.4 and will be removed in 1.6. To calculate the root mean squared error, use the function'root_mean_squared_error'.\n",
      "  warnings.warn(\n"
     ]
    }
   ],
   "source": [
    "%run train_mod.py"
   ]
  },
  {
   "cell_type": "code",
   "execution_count": 9,
   "id": "b9e4c129-4355-4929-985d-600783caae00",
   "metadata": {},
   "outputs": [
    {
     "name": "stdout",
     "output_type": "stream",
     "text": [
      "^C\n"
     ]
    }
   ],
   "source": [
    "!mlflow server --backend-store-uri sqlite:///mlflow.db --default-artifact-root ./artifact"
   ]
  },
  {
   "cell_type": "code",
   "execution_count": 6,
   "id": "80fb640f-085b-439a-aba0-1d221de51e38",
   "metadata": {},
   "outputs": [
    {
     "name": "stdout",
     "output_type": "stream",
     "text": [
      "env: MLFLOW_TRACKING_URI=sqlite:///mlruns.db\n"
     ]
    }
   ],
   "source": [
    "%env MLFLOW_TRACKING_URI=sqlite:///mlruns.db"
   ]
  }
 ],
 "metadata": {
  "kernelspec": {
   "display_name": "Python 3 (ipykernel)",
   "language": "python",
   "name": "python3"
  },
  "language_info": {
   "codemirror_mode": {
    "name": "ipython",
    "version": 3
   },
   "file_extension": ".py",
   "mimetype": "text/x-python",
   "name": "python",
   "nbconvert_exporter": "python",
   "pygments_lexer": "ipython3",
   "version": "3.11.9"
  }
 },
 "nbformat": 4,
 "nbformat_minor": 5
}
