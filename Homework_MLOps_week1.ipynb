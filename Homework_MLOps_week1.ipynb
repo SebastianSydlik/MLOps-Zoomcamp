{
 "cells": [
  {
   "cell_type": "markdown",
   "id": "14d835e1-d949-4c68-96a0-efab3b9a2eee",
   "metadata": {},
   "source": [
    "### Imports & loading data"
   ]
  },
  {
   "cell_type": "code",
   "execution_count": 1,
   "id": "d4200bbf-7cd5-4e4c-8885-41f39f86f5dc",
   "metadata": {},
   "outputs": [],
   "source": [
    "import numpy as np\n",
    "import pandas as pd"
   ]
  },
  {
   "cell_type": "code",
   "execution_count": 2,
   "id": "b65e036d-9040-4d87-9df1-a0945f6e06bf",
   "metadata": {},
   "outputs": [],
   "source": [
    "df = pd.read_parquet('yellow_tripdata_2023-01.parquet', engine='pyarrow')\n",
    "df_val = pd.read_parquet('yellow_tripdata_2023-02.parquet', engine='pyarrow')"
   ]
  },
  {
   "cell_type": "markdown",
   "id": "32a3a851-2d6c-41c7-b76d-18d735173c10",
   "metadata": {},
   "source": [
    "### Q1: Get number of columns for January dataset => 19"
   ]
  },
  {
   "cell_type": "code",
   "execution_count": 3,
   "id": "ba8f86ee-523f-4fcd-b2ba-16c396cc993b",
   "metadata": {},
   "outputs": [
    {
     "data": {
      "text/plain": [
       "(3066766, 19)"
      ]
     },
     "execution_count": 3,
     "metadata": {},
     "output_type": "execute_result"
    }
   ],
   "source": [
    "df.shape"
   ]
  },
  {
   "cell_type": "markdown",
   "id": "92f3fd96-34e5-49a0-afbc-faededf40503",
   "metadata": {},
   "source": [
    "### Q2: Add duration of a ride as column. What's the stdev of ride duration in January? => 42.59"
   ]
  },
  {
   "cell_type": "code",
   "execution_count": 4,
   "id": "b48949a3-e0dd-465c-80c6-f469277b705f",
   "metadata": {},
   "outputs": [],
   "source": [
    "df['duration'] = df.tpep_dropoff_datetime - df.tpep_pickup_datetime\n",
    "df_val['duration'] = df_val.tpep_dropoff_datetime - df_val.tpep_pickup_datetime\n",
    "\n",
    "df.duration = df.duration.apply(lambda td: td.total_seconds() / 60)\n",
    "df_val.duration = df_val.duration.apply(lambda td: td.total_seconds() / 60)\n",
    "\n"
   ]
  },
  {
   "cell_type": "code",
   "execution_count": 12,
   "id": "fd1c86fc-1464-4d15-b136-ec9e36d5d07b",
   "metadata": {},
   "outputs": [
    {
     "name": "stderr",
     "output_type": "stream",
     "text": [
      "C:\\Users\\SebastianSy\\AppData\\Local\\Temp\\ipykernel_11580\\2168452889.py:1: FutureWarning: Series.__getitem__ treating keys as positions is deprecated. In a future version, integer keys will always be treated as labels (consistent with DataFrame behavior). To access a value by position, use `ser.iloc[pos]`\n",
      "  count_full = (df.duration.describe().round(2))[0]\n",
      "C:\\Users\\SebastianSy\\AppData\\Local\\Temp\\ipykernel_11580\\2168452889.py:2: FutureWarning: Series.__getitem__ treating keys as positions is deprecated. In a future version, integer keys will always be treated as labels (consistent with DataFrame behavior). To access a value by position, use `ser.iloc[pos]`\n",
      "  stdev_full = (df.duration.describe().round(2))[2]\n"
     ]
    },
    {
     "data": {
      "text/plain": [
       "(3066766.0, 42.59)"
      ]
     },
     "execution_count": 12,
     "metadata": {},
     "output_type": "execute_result"
    }
   ],
   "source": [
    "count_full = (df.duration.describe().round(2))[0]\n",
    "stdev_full = (df.duration.describe().round(2))[2]\n",
    "count_full, stdev_full"
   ]
  },
  {
   "cell_type": "markdown",
   "id": "f6dea655-9b61-4289-9465-063fada04b86",
   "metadata": {},
   "source": [
    "### Q3:Drop outliers (rides shorter than 1min and longer than 60min). What fraction of rides remains?"
   ]
  },
  {
   "cell_type": "code",
   "execution_count": 36,
   "id": "d28d39d0-c58b-4030-ab62-aa085fe96e65",
   "metadata": {},
   "outputs": [
    {
     "name": "stderr",
     "output_type": "stream",
     "text": [
      "C:\\Users\\SebastianSy\\AppData\\Local\\Temp\\ipykernel_11580\\1205340321.py:3: FutureWarning: Series.__getitem__ treating keys as positions is deprecated. In a future version, integer keys will always be treated as labels (consistent with DataFrame behavior). To access a value by position, use `ser.iloc[pos]`\n",
      "  count_outliers_removed = (df.duration.describe().round(2))[0]\n"
     ]
    }
   ],
   "source": [
    "df = df[(df.duration >= 1) & (df.duration <= 60)]\n",
    "df_val = df_val[(df_val.duration >= 1) & (df_val.duration <= 60)]\n",
    "count_outliers_removed = (df.duration.describe().round(2))[0]\n"
   ]
  },
  {
   "cell_type": "code",
   "execution_count": 14,
   "id": "311aac57-96b1-4069-a772-fdebd87738bd",
   "metadata": {},
   "outputs": [
    {
     "data": {
      "text/plain": [
       "98.1220282212598"
      ]
     },
     "execution_count": 14,
     "metadata": {},
     "output_type": "execute_result"
    }
   ],
   "source": [
    "count_outliers_removed/count_full*100"
   ]
  },
  {
   "cell_type": "code",
   "execution_count": 18,
   "id": "e7ed0a85-f724-4d21-94b5-599021cb7395",
   "metadata": {},
   "outputs": [
    {
     "data": {
      "text/plain": [
       "(2913955, 20)"
      ]
     },
     "execution_count": 18,
     "metadata": {},
     "output_type": "execute_result"
    }
   ],
   "source": [
    "df_val.shape"
   ]
  },
  {
   "cell_type": "markdown",
   "id": "68d1eddc-c299-4460-9a33-281a5cd96493",
   "metadata": {},
   "source": [
    "### Q4: One-hot encoding of pickup and dropofflocation IDs. How many cols does the feature matrix have? =>515"
   ]
  },
  {
   "cell_type": "code",
   "execution_count": 37,
   "id": "9586dfe8-f86b-4008-b382-0c7d0fb0bd4c",
   "metadata": {},
   "outputs": [
    {
     "name": "stderr",
     "output_type": "stream",
     "text": [
      "C:\\Users\\SebastianSy\\AppData\\Local\\Temp\\ipykernel_11580\\154925134.py:7: SettingWithCopyWarning: \n",
      "A value is trying to be set on a copy of a slice from a DataFrame.\n",
      "Try using .loc[row_indexer,col_indexer] = value instead\n",
      "\n",
      "See the caveats in the documentation: https://pandas.pydata.org/pandas-docs/stable/user_guide/indexing.html#returning-a-view-versus-a-copy\n",
      "  df_val[categorical] = df_val[categorical].astype(str)\n"
     ]
    }
   ],
   "source": [
    "from sklearn.feature_extraction import DictVectorizer\n",
    "\n",
    "dv = DictVectorizer(sparse=False)\n",
    "\n",
    "categorical = ['PULocationID', 'DOLocationID']\n",
    "df[categorical] = df[categorical].astype(str)\n",
    "df_val[categorical] = df_val[categorical].astype(str)\n",
    "\n",
    "train_dicts = df[categorical].to_dict(orient='records')\n",
    "val_dicts = df_val[categorical].to_dict(orient='records')\n",
    "\n",
    "dv = DictVectorizer()\n",
    "X_train = dv.fit_transform(train_dicts)\n",
    "X_val = dv.transform(val_dicts)\n",
    "\n",
    "target = 'duration'\n",
    "y_train = df[target].values\n",
    "y_val = df_val[target].values\n"
   ]
  },
  {
   "cell_type": "code",
   "execution_count": 38,
   "id": "3dce3937-65fe-486c-a18c-dbf1d52787a7",
   "metadata": {},
   "outputs": [
    {
     "data": {
      "text/plain": [
       "(<3009173x515 sparse matrix of type '<class 'numpy.float64'>'\n",
       " \twith 6018346 stored elements in Compressed Sparse Row format>,\n",
       " <2855951x515 sparse matrix of type '<class 'numpy.float64'>'\n",
       " \twith 5711894 stored elements in Compressed Sparse Row format>)"
      ]
     },
     "execution_count": 38,
     "metadata": {},
     "output_type": "execute_result"
    }
   ],
   "source": [
    "X_train, X_val"
   ]
  },
  {
   "cell_type": "markdown",
   "id": "6a5f3c46-4fce-46ae-9c57-6b17c4bc2b4c",
   "metadata": {},
   "source": [
    "### Q5: Train a model using the feature matrix and linearRegression. What's the RMSE on the training data?"
   ]
  },
  {
   "cell_type": "code",
   "execution_count": 40,
   "id": "fd8d5b62-7dec-4417-b3b9-52e41fb718d2",
   "metadata": {},
   "outputs": [
    {
     "data": {
      "text/plain": [
       "7.649261952121727"
      ]
     },
     "execution_count": 40,
     "metadata": {},
     "output_type": "execute_result"
    }
   ],
   "source": [
    "from sklearn.linear_model import LinearRegression\n",
    "from sklearn.metrics import mean_squared_error\n",
    "lr = LinearRegression()\n",
    "lr.fit(X_train, y_train)\n",
    "\n",
    "y_pred = lr.predict(X_train)\n",
    "\n",
    "mean_squared_error(y_train, y_pred, squared=False)\n",
    "\n"
   ]
  },
  {
   "cell_type": "markdown",
   "id": "ddb30b8e-e6fe-402e-94d5-a42dd9c5a376",
   "metadata": {},
   "source": [
    "### Q6: Evaluate the model on the validation dataset (Feb). What's the RMSE?"
   ]
  },
  {
   "cell_type": "code",
   "execution_count": 39,
   "id": "b8bd0290-51ad-46a7-9e25-6d7696ab6f13",
   "metadata": {},
   "outputs": [
    {
     "data": {
      "text/plain": [
       "7.811816484222663"
      ]
     },
     "execution_count": 39,
     "metadata": {},
     "output_type": "execute_result"
    }
   ],
   "source": [
    "from sklearn.linear_model import LinearRegression\n",
    "from sklearn.metrics import mean_squared_error\n",
    "lr = LinearRegression()\n",
    "lr.fit(X_train, y_train)\n",
    "\n",
    "y_pred = lr.predict(X_val)\n",
    "\n",
    "mean_squared_error(y_val, y_pred, squared=False)\n"
   ]
  }
 ],
 "metadata": {
  "kernelspec": {
   "display_name": "Python 3 (ipykernel)",
   "language": "python",
   "name": "python3"
  },
  "language_info": {
   "codemirror_mode": {
    "name": "ipython",
    "version": 3
   },
   "file_extension": ".py",
   "mimetype": "text/x-python",
   "name": "python",
   "nbconvert_exporter": "python",
   "pygments_lexer": "ipython3",
   "version": "3.11.7"
  }
 },
 "nbformat": 4,
 "nbformat_minor": 5
}
